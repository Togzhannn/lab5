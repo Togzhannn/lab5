{
 "cells": [
  {
   "cell_type": "code",
   "execution_count": 1,
   "id": "ee81b4d6-cfaf-4b6d-8100-2b002fc9b8d3",
   "metadata": {},
   "outputs": [],
   "source": [
    "#RegEx"
   ]
  },
  {
   "cell_type": "code",
   "execution_count": 25,
   "id": "9715c050-c516-4b9b-b1ea-641a4b61e728",
   "metadata": {},
   "outputs": [
    {
     "name": "stdin",
     "output_type": "stream",
     "text": [
      "Enter a string:  a\n"
     ]
    },
    {
     "name": "stdout",
     "output_type": "stream",
     "text": [
      "We have a Match!\n"
     ]
    }
   ],
   "source": [
    "import re \n",
    "\n",
    "pattern = r\"^ab*$\"\n",
    "test_string = input(\"Enter a string: \")\n",
    "\n",
    "if re.match(pattern, test_string):\n",
    "    print(\"We have a Match!\")\n",
    "else:\n",
    "    print(\"No match.\")\n"
   ]
  },
  {
   "cell_type": "code",
   "execution_count": 19,
   "id": "ccbc2d7b-9510-4f95-9759-7a1a6edf4acc",
   "metadata": {},
   "outputs": [
    {
     "name": "stdin",
     "output_type": "stream",
     "text": [
      "Enter a string:  abb\n"
     ]
    },
    {
     "name": "stdout",
     "output_type": "stream",
     "text": [
      "We have a Match!\n"
     ]
    }
   ],
   "source": [
    "import re \n",
    "pattern = r\"ab{2,3}\"\n",
    "\n",
    "test_string = input(\"Enter a string: \")\n",
    "if re.search(pattern, test_string):\n",
    "    print(\"We have a Match!\")\n",
    "else:\n",
    "    print(\"No match.\")\n"
   ]
  },
  {
   "cell_type": "code",
   "execution_count": 5,
   "id": "a1a73933-a738-4a4b-9611-e7bffc205e4d",
   "metadata": {},
   "outputs": [
    {
     "name": "stdin",
     "output_type": "stream",
     "text": [
      "Enter a string:  abc_def\n"
     ]
    },
    {
     "name": "stdout",
     "output_type": "stream",
     "text": [
      "Found sequences: ['abc_def']\n"
     ]
    }
   ],
   "source": [
    "\n",
    "pattern = r\"[a-z]+_[a-z]+\"\n",
    "\n",
    "test_string = input(\"Enter a string: \")\n",
    "matches = re.findall(pattern, test_string)\n",
    "\n",
    "if matches:\n",
    "    print(\"Found sequences:\", matches)\n",
    "else:\n",
    "    print(\"No matching sequences found.\")\n"
   ]
  },
  {
   "cell_type": "code",
   "execution_count": 17,
   "id": "516bb050-caca-48fa-9f2f-4cfe9f67b6a4",
   "metadata": {},
   "outputs": [
    {
     "name": "stdin",
     "output_type": "stream",
     "text": [
      "Enter a string:  Hello ThisIsAnExample\n"
     ]
    },
    {
     "name": "stdout",
     "output_type": "stream",
     "text": [
      "Found sequences: ['Hello', 'This', 'Is', 'An', 'Example']\n"
     ]
    }
   ],
   "source": [
    "text = input(\"Enter a string: \")\n",
    "pattern = r\"[A-Z][a-z]+\"\n",
    "matches = re.findall(pattern, text)\n",
    "\n",
    "if matches:\n",
    "    print(\"Found sequences:\", matches)\n",
    "else:\n",
    "    print(\"No matches.\")\n"
   ]
  },
  {
   "cell_type": "code",
   "execution_count": 15,
   "id": "7a89ae37-d80e-4c4d-b7bb-5c337738a634",
   "metadata": {},
   "outputs": [
    {
     "name": "stdin",
     "output_type": "stream",
     "text": [
      "Enter a string:  aeeeeb\n"
     ]
    },
    {
     "name": "stdout",
     "output_type": "stream",
     "text": [
      "We have a Match!\n"
     ]
    }
   ],
   "source": [
    "\n",
    "test_string = input(\"Enter a string: \")\n",
    "\n",
    "pattern = r\"^a.*b$\"\n",
    "if re.match(pattern, test_string):\n",
    "    print(\"We have a Match!\")\n",
    "else:\n",
    "    print(\"No match found.\")\n"
   ]
  },
  {
   "cell_type": "code",
   "execution_count": 29,
   "id": "d93a0340-e754-43a6-93f5-5f0d9b72f326",
   "metadata": {},
   "outputs": [
    {
     "name": "stdin",
     "output_type": "stream",
     "text": [
      "Enter a string:  Hello world.Hello Python\n"
     ]
    },
    {
     "name": "stdout",
     "output_type": "stream",
     "text": [
      "Modified string: Hello:world:Hello:Python\n"
     ]
    }
   ],
   "source": [
    "text = input(\"Enter a string: \")\n",
    "result = re.sub(r\"[ ,.]\", \":\", text)\n",
    "\n",
    "print(\"Modified string:\", result)\n"
   ]
  },
  {
   "cell_type": "code",
   "execution_count": 41,
   "id": "bcdd4582-a973-48a9-a7e7-f292515bee30",
   "metadata": {},
   "outputs": [
    {
     "name": "stdin",
     "output_type": "stream",
     "text": [
      "Enter a snake_case string:  Hello_Python\n"
     ]
    },
    {
     "name": "stdout",
     "output_type": "stream",
     "text": [
      "Camel case string: HelloPython\n"
     ]
    }
   ],
   "source": [
    "def snake_to_camel(s):\n",
    "    parts = s.split('_')\n",
    "    return parts[0] + ''.join(word.capitalize() for word in parts[1:])\n",
    "\n",
    "snake_case = input(\"Enter a snake_case string: \")\n",
    "camel_case = snake_to_camel(snake_case)\n",
    "print(\"Camel case string:\", camel_case)\n"
   ]
  },
  {
   "cell_type": "code",
   "execution_count": 47,
   "id": "0e47db14-7969-4df2-920d-51f38284bf19",
   "metadata": {},
   "outputs": [
    {
     "name": "stdin",
     "output_type": "stream",
     "text": [
      "Enter a string:  ThisIsAnExample\n"
     ]
    },
    {
     "name": "stdout",
     "output_type": "stream",
     "text": [
      "Splitted string: ['', 'This', 'Is', 'An', 'Example']\n"
     ]
    }
   ],
   "source": [
    "text = input(\"Enter a string: \")\n",
    "result = re.split(r'(?=[A-Z])', text)\n",
    "print(\"Splitted string:\", result)\n"
   ]
  },
  {
   "cell_type": "code",
   "execution_count": 49,
   "id": "952025be-303d-42ef-a1cc-69cf17f6ce41",
   "metadata": {},
   "outputs": [
    {
     "name": "stdin",
     "output_type": "stream",
     "text": [
      "Enter a CamelCase string:  HelloPython\n"
     ]
    },
    {
     "name": "stdout",
     "output_type": "stream",
     "text": [
      "String with spaces: Hello Python\n"
     ]
    }
   ],
   "source": [
    "text = input(\"Enter a CamelCase string: \")\n",
    "\n",
    "result = re.sub(r'(?=[A-Z])', ' ', text).strip()\n",
    "print(\"String with spaces:\", result)\n"
   ]
  },
  {
   "cell_type": "code",
   "execution_count": 51,
   "id": "d613bae1-1336-4a6d-b9f9-00669bfbce24",
   "metadata": {},
   "outputs": [
    {
     "name": "stdin",
     "output_type": "stream",
     "text": [
      "Enter a CamelCase string:  ThisIsPython\n"
     ]
    },
    {
     "name": "stdout",
     "output_type": "stream",
     "text": [
      "Snake case string: this_is_python\n"
     ]
    }
   ],
   "source": [
    "def camel_to_snake(camel_str):\n",
    "    snake_str = re.sub(r'([a-z0-9])([A-Z])', r'\\1_\\2', camel_str).lower()\n",
    "    return snake_str\n",
    "\n",
    "camel_case = input(\"Enter a CamelCase string: \")\n",
    "\n",
    "snake_case = camel_to_snake(camel_case)\n",
    "print(\"Snake case string:\", snake_case)\n"
   ]
  }
 ],
 "metadata": {
  "kernelspec": {
   "display_name": "Python 3 (ipykernel)",
   "language": "python",
   "name": "python3"
  },
  "language_info": {
   "codemirror_mode": {
    "name": "ipython",
    "version": 3
   },
   "file_extension": ".py",
   "mimetype": "text/x-python",
   "name": "python",
   "nbconvert_exporter": "python",
   "pygments_lexer": "ipython3",
   "version": "3.12.7"
  }
 },
 "nbformat": 4,
 "nbformat_minor": 5
}
